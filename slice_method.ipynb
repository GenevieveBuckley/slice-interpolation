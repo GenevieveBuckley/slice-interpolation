{
 "cells": [
  {
   "cell_type": "code",
   "execution_count": null,
   "id": "76cc493d",
   "metadata": {},
   "outputs": [],
   "source": [
    "# Testing differenyt interpolation methods"
   ]
  },
  {
   "cell_type": "code",
   "execution_count": 1,
   "id": "a42ab3cb",
   "metadata": {},
   "outputs": [],
   "source": [
    "import os\n",
    "import matplotlib.pyplot as plt\n",
    "import numpy as np\n",
    "\n",
    "%matplotlib inline"
   ]
  },
  {
   "cell_type": "code",
   "execution_count": 2,
   "id": "cb849a85",
   "metadata": {},
   "outputs": [],
   "source": [
    "import napari"
   ]
  },
  {
   "cell_type": "code",
   "execution_count": 3,
   "id": "ea69ee27",
   "metadata": {},
   "outputs": [
    {
     "name": "stdout",
     "output_type": "stream",
     "text": [
      "Assistant skips harvesting pyclesperanto as it's not installed.\n"
     ]
    },
    {
     "name": "stderr",
     "output_type": "stream",
     "text": [
      "C:\\Users\\james\\anaconda3\\envs\\napari\\lib\\site-packages\\napari_tools_menu\\__init__.py:168: FutureWarning: Public access to Window.qt_viewer is deprecated and will be removed in\n",
      "v0.5.0. It is considered an \"implementation detail\" of the napari\n",
      "application, not part of the napari viewer model. If your use case\n",
      "requires access to qt_viewer, please open an issue to discuss.\n",
      "  self.tools_menu = ToolsMenu(self, self.qt_viewer.viewer)\n"
     ]
    }
   ],
   "source": [
    "viewer = napari.Viewer()\n",
    "viewer.open_sample('napari', 'cells3d')\n",
    "membrane_layer = viewer.layers[0]\n",
    "nuclei_layer = viewer.layers[1]"
   ]
  },
  {
   "cell_type": "code",
   "execution_count": 4,
   "id": "10ee24e7",
   "metadata": {},
   "outputs": [],
   "source": [
    "from scipy.ndimage import distance_transform_edt\n",
    "from scipy.interpolate import interpn\n",
    "\n",
    "def distance_transform(image):\n",
    "    \"\"\"Distance transform for a boolean image.\n",
    "    \n",
    "    Returns positive values inside the object,\n",
    "    and negative values outside.\n",
    "    \"\"\"\n",
    "    image = image.astype(bool)\n",
    "    edt = distance_transform_edt(image) - distance_transform_edt(~image)\n",
    "    return edt\n",
    "\n",
    "\n",
    "def point_and_values(image_1, image_2, interp_dim=0):\n",
    "    edt_1 = distance_transform(image_1)\n",
    "    edt_2 = distance_transform(image_2)\n",
    "    values = np.stack([edt_1, edt_2], axis=interp_dim)\n",
    "    points = tuple([np.arange(i) for i in values.shape])\n",
    "    return points, values\n",
    "\n",
    "\n",
    "def xi_coords(shape, percent=0.5, interp_dim=0):\n",
    "    slices = [slice(0, i) for i in shape]\n",
    "    xi = np.moveaxis(np.mgrid[slices], 0, -1).reshape(np.prod(shape), len(shape)).astype('float')\n",
    "    xi = np.insert(xi, interp_dim, percent, axis=1)\n",
    "    return xi\n",
    "\n",
    "\n",
    "def slice_iterator(slice_index_1, slice_index_2):\n",
    "    intermediate_slices = np.arange(slice_index_1 + 1, slice_index_2)\n",
    "    n_slices = slice_index_2 - slice_index_1 + 1  # inclusive\n",
    "    stepsize = 1 / n_slices\n",
    "    intermediate_percentages = np.arange(0 + stepsize, 1, stepsize)\n",
    "    return zip(intermediate_slices, intermediate_percentages)\n",
    "\n",
    "\n",
    "def interpolated_slice(percent, points, values, interp_dim=0, method='linear'):\n",
    "    # Find the original image shape\n",
    "    img_shape = list(values.shape)\n",
    "    del img_shape[interp_dim]\n",
    "    # Calculate the interpolated slice\n",
    "    xi = xi_coords(img_shape, percent=percent, interp_dim=interp_dim)\n",
    "    interpolated_img = interpn(points, values, xi, method=method)\n",
    "    interpolated_img = np.reshape(interpolated_img, img_shape) > 0\n",
    "    return interpolated_img\n",
    "    "
   ]
  },
  {
   "cell_type": "code",
   "execution_count": 5,
   "id": "e583cb6b",
   "metadata": {},
   "outputs": [],
   "source": [
    "def interpolate_between_slices(label_layer: \"napari.layers.Labels\", slice_index_1: int, slice_index_2: int, label_id: int =1, interp_dim: int =0):\n",
    "    if slice_index_1 > slice_index_2:\n",
    "        slice_index_1, slice_index_2 = slice_index_2, slice_index_1\n",
    "    layer_data = np.asarray(label_layer.data)\n",
    "    slice_1 = np.take(layer_data, slice_index_1, axis=interp_dim)\n",
    "    slice_2 = np.take(layer_data, slice_index_2, axis=interp_dim)\n",
    "    # slice_1 = np.asarray(label_layer.data[slice_index_1])\n",
    "    # slice_2 = np.asarray(label_layer.data[slice_index_2])\n",
    "\n",
    "    #TODO: possible extension, handle all label ids separately     \n",
    "    slice_1 = slice_1.astype(bool)\n",
    "    slice_2 = slice_2.astype(bool)\n",
    "    # interp_dim should just be the slider \"dimension\" right?\n",
    "    points, values = point_and_values(slice_1, slice_2, interp_dim)\n",
    "    #TODO: Thread this?   \n",
    "    for slice_number, percentage in slice_iterator(slice_index_1, slice_index_2):\n",
    "        interpolated_img = interpolated_slice(percentage, points, values, interp_dim=interp_dim, method='linear')\n",
    "        indices = [slice(None) for _ in range(label_layer.data.ndim)]\n",
    "        indices[interp_dim] = slice_number\n",
    "        indices = tuple(indices)\n",
    "        label_layer.data[indices][interpolated_img] = label_id\n",
    "    label_layer.refresh()  # will update the current view"
   ]
  },
  {
   "cell_type": "code",
   "execution_count": 22,
   "id": "20aad322",
   "metadata": {},
   "outputs": [],
   "source": [
    "label_layer = viewer.layers[-1]\n",
    "slice_index_1 = 24\n",
    "slice_index_2 = 30\n",
    "slice_index_3 = 35\n",
    "slice_index_4 = 40\n",
    "slice_index_5 = 45\n",
    "slices_indices = [24, 30, 35, 40, 45]\n",
    "#get layers at these slices\n",
    "# add the an empty 3d volume (or same size) (np.zeroes)\n",
    "from scipy.ndimage import map_coordinates\n",
    "interp_dim = 0\n",
    "empty_cube = np.zeros(shape=(60, 256, 256), dtype=\"uint8\")\n",
    "\n",
    "slice_1 = np.take(label_layer.data, slice_index_1, axis=interp_dim)\n",
    "slice_2 = np.take(label_layer.data, slice_index_2, axis=interp_dim)\n",
    "slice_3 = np.take(label_layer.data, slice_index_3, axis=interp_dim)\n",
    "slice_4 = np.take(label_layer.data, slice_index_4, axis=interp_dim)\n",
    "slice_5 = np.take(label_layer.data, slice_index_5, axis=interp_dim)\n",
    "\n",
    "empty_cube[slice_index_1] = slice_1\n",
    "empty_cube[slice_index_2] = slice_2\n",
    "empty_cube[slice_index_3] = slice_3\n",
    "empty_cube[slice_index_4] = slice_4\n",
    "empty_cube[slice_index_5] = slice_5\n",
    "\n",
    "# import tifffile as t\n",
    "# t.imwrite(\"label_fiveslices\", empty_cube)\n",
    "\n",
    "\n"
   ]
  },
  {
   "cell_type": "code",
   "execution_count": 25,
   "id": "7e9e2507",
   "metadata": {},
   "outputs": [],
   "source": [
    "# interpolate_between_slices(label_layer, slice_index_1, slice_index_2, interp_dim=0)"
   ]
  },
  {
   "cell_type": "code",
   "execution_count": 14,
   "id": "06e0dd78",
   "metadata": {},
   "outputs": [
    {
     "data": {
      "text/plain": [
       "['T',\n",
       " '_Oindex',\n",
       " '_Vindex',\n",
       " '__array__',\n",
       " '__class__',\n",
       " '__delattr__',\n",
       " '__dir__',\n",
       " '__doc__',\n",
       " '__eq__',\n",
       " '__format__',\n",
       " '__ge__',\n",
       " '__getattribute__',\n",
       " '__getitem__',\n",
       " '__gt__',\n",
       " '__hash__',\n",
       " '__init__',\n",
       " '__init_subclass__',\n",
       " '__iter__',\n",
       " '__le__',\n",
       " '__lt__',\n",
       " '__module__',\n",
       " '__ne__',\n",
       " '__new__',\n",
       " '__reduce__',\n",
       " '__reduce_ex__',\n",
       " '__repr__',\n",
       " '__setattr__',\n",
       " '__setitem__',\n",
       " '__sizeof__',\n",
       " '__str__',\n",
       " '__subclasshook__',\n",
       " '_unpickle',\n",
       " 'astype',\n",
       " 'chunk_layout',\n",
       " 'codec',\n",
       " 'dimension_units',\n",
       " 'domain',\n",
       " 'dtype',\n",
       " 'fill_value',\n",
       " 'kvstore',\n",
       " 'mode',\n",
       " 'ndim',\n",
       " 'oindex',\n",
       " 'origin',\n",
       " 'rank',\n",
       " 'read',\n",
       " 'readable',\n",
       " 'resolve',\n",
       " 'schema',\n",
       " 'shape',\n",
       " 'size',\n",
       " 'spec',\n",
       " 'transaction',\n",
       " 'vindex',\n",
       " 'with_transaction',\n",
       " 'writable',\n",
       " 'write']"
      ]
     },
     "execution_count": 14,
     "metadata": {},
     "output_type": "execute_result"
    }
   ],
   "source": [
    "dir(label_layer.data)"
   ]
  }
 ],
 "metadata": {
  "kernelspec": {
   "display_name": "Python 3 (ipykernel)",
   "language": "python",
   "name": "python3"
  },
  "language_info": {
   "codemirror_mode": {
    "name": "ipython",
    "version": 3
   },
   "file_extension": ".py",
   "mimetype": "text/x-python",
   "name": "python",
   "nbconvert_exporter": "python",
   "pygments_lexer": "ipython3",
   "version": "3.9.7"
  }
 },
 "nbformat": 4,
 "nbformat_minor": 5
}
