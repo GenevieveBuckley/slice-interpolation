{
 "cells": [
  {
   "cell_type": "markdown",
   "id": "6bce021e",
   "metadata": {},
   "source": [
    "# Slice interpolation for labels in zarpaint"
   ]
  },
  {
   "cell_type": "markdown",
   "id": "052bb9eb",
   "metadata": {},
   "source": [
    "## Resources\n",
    "\n",
    "* Paper:  Raya and Udupa \"Shape-Based Interpolation of Multidimensional Objects\" IEEE TRANSACTIONS ON MEDICAL IMAGING, VOL. 9, NO. I , MARCH 1990\n",
    "* [This StackOverflow post](https://stackoverflow.com/questions/48818373/interpolate-between-two-images) (not well executed for nd, but useful to read anyway)\n"
   ]
  },
  {
   "cell_type": "markdown",
   "id": "1d06c5e7",
   "metadata": {},
   "source": [
    "## Set up some example data"
   ]
  },
  {
   "cell_type": "code",
   "execution_count": 1,
   "id": "0c66a7d0",
   "metadata": {},
   "outputs": [],
   "source": [
    "import os\n",
    "import matplotlib.pyplot as plt\n",
    "import numpy as np"
   ]
  },
  {
   "cell_type": "code",
   "execution_count": 2,
   "id": "6bdd9cbd",
   "metadata": {},
   "outputs": [],
   "source": [
    "import napari"
   ]
  },
  {
   "cell_type": "code",
   "execution_count": 3,
   "id": "c88efc99",
   "metadata": {},
   "outputs": [],
   "source": [
    "viewer = napari.Viewer()\n",
    "viewer.open_sample('napari', 'cells3d')\n",
    "membrane_layer = viewer.layers[0]\n",
    "nuclei_layer = viewer.layers[1]"
   ]
  },
  {
   "cell_type": "code",
   "execution_count": 129,
   "id": "378903ae",
   "metadata": {},
   "outputs": [],
   "source": [
    "# # numpy label data\n",
    "# single_nuclei_label = tifffile.imread('single-nuclei-label.tif')\n",
    "# viewer.add_labels(single_nuclei_label)\n",
    "# label_layer = viewer.layers[-1]\n",
    "# labels = label_layer.data"
   ]
  },
  {
   "cell_type": "markdown",
   "id": "7b3afda5",
   "metadata": {},
   "source": [
    "## Manually create labels with zarpaint GUI\n",
    "\n",
    "1. Plugins > zarpaint > create labels\n",
    "2. Create a new zarr file called \"mylabels.zarr\"\n",
    "3. Click \"Run\" in the zarpaint widget\n",
    "4. Label the same nucleus at two different slices (take note of which slice numbers)"
   ]
  },
  {
   "cell_type": "code",
   "execution_count": 130,
   "id": "a34808c0",
   "metadata": {},
   "outputs": [],
   "source": [
    "# Make note of which image slices you labelled\n",
    "slice_index_1 = 30\n",
    "slice_index_2 = 38"
   ]
  },
  {
   "cell_type": "markdown",
   "id": "c1b279a2",
   "metadata": {},
   "source": [
    "## Exploring the tensorstore labels"
   ]
  },
  {
   "cell_type": "code",
   "execution_count": 105,
   "id": "119114bf",
   "metadata": {},
   "outputs": [
    {
     "name": "stdout",
     "output_type": "stream",
     "text": [
      "TensorStore({\n",
      "  'context': {\n",
      "    'cache_pool': {},\n",
      "    'data_copy_concurrency': {},\n",
      "    'file_io_concurrency': {},\n",
      "  },\n",
      "  'driver': 'zarr',\n",
      "  'dtype': 'uint32',\n",
      "  'kvstore': {'driver': 'file', 'path': 'mylabels.zarr/'},\n",
      "  'metadata': {\n",
      "    'chunks': [1, 128, 128],\n",
      "    'compressor': {\n",
      "      'blocksize': 0,\n",
      "      'clevel': 5,\n",
      "      'cname': 'lz4',\n",
      "      'id': 'blosc',\n",
      "      'shuffle': 1,\n",
      "    },\n",
      "    'dimension_separator': '.',\n",
      "    'dtype': '<u4',\n",
      "    'fill_value': 0,\n",
      "    'filters': None,\n",
      "    'order': 'C',\n",
      "    'shape': [60, 256, 256],\n",
      "    'zarr_format': 2,\n",
      "  },\n",
      "  'transform': {\n",
      "    'input_exclusive_max': [[60], [256], [256]],\n",
      "    'input_inclusive_min': [0, 0, 0],\n",
      "  },\n",
      "})\n"
     ]
    }
   ],
   "source": [
    "# after you have done the manual steps above, run this cell\n",
    "label_layer = viewer.layers[-1]\n",
    "ts = label_layer.data  # tensorstore data for the labels\n",
    "print(ts)"
   ]
  },
  {
   "cell_type": "code",
   "execution_count": 106,
   "id": "a6c7ab8d",
   "metadata": {},
   "outputs": [
    {
     "name": "stdout",
     "output_type": "stream",
     "text": [
      "TensorStore({\n",
      "  'context': {\n",
      "    'cache_pool': {},\n",
      "    'data_copy_concurrency': {},\n",
      "    'file_io_concurrency': {},\n",
      "  },\n",
      "  'driver': 'zarr',\n",
      "  'dtype': 'uint32',\n",
      "  'kvstore': {'driver': 'file', 'path': 'mylabels.zarr/'},\n",
      "  'metadata': {\n",
      "    'chunks': [1, 128, 128],\n",
      "    'compressor': {\n",
      "      'blocksize': 0,\n",
      "      'clevel': 5,\n",
      "      'cname': 'lz4',\n",
      "      'id': 'blosc',\n",
      "      'shuffle': 1,\n",
      "    },\n",
      "    'dimension_separator': '.',\n",
      "    'dtype': '<u4',\n",
      "    'fill_value': 0,\n",
      "    'filters': None,\n",
      "    'order': 'C',\n",
      "    'shape': [60, 256, 256],\n",
      "    'zarr_format': 2,\n",
      "  },\n",
      "  'transform': {\n",
      "    'input_exclusive_max': [[256], [256]],\n",
      "    'input_inclusive_min': [0, 0],\n",
      "    'output': [{'offset': 30}, {'input_dimension': 0}, {'input_dimension': 1}],\n",
      "  },\n",
      "})\n",
      "\n",
      "numpy array values:\n",
      "\n",
      "[[0 0 0 ... 0 0 0]\n",
      " [0 0 0 ... 0 0 0]\n",
      " [0 0 0 ... 0 0 0]\n",
      " ...\n",
      " [0 0 0 ... 0 0 0]\n",
      " [0 0 0 ... 0 0 0]\n",
      " [0 0 0 ... 0 0 0]]\n"
     ]
    }
   ],
   "source": [
    "print(ts[slice_index_1])\n",
    "print(\"\")\n",
    "print(\"numpy array values:\\n\")\n",
    "print(np.asarray(ts[slice_index_1]))\n"
   ]
  },
  {
   "cell_type": "code",
   "execution_count": 107,
   "id": "31b288bc",
   "metadata": {},
   "outputs": [
    {
     "data": {
      "text/plain": [
       "<matplotlib.image.AxesImage at 0x29f68ff70>"
      ]
     },
     "execution_count": 107,
     "metadata": {},
     "output_type": "execute_result"
    },
    {
     "data": {
      "image/png": "[encoded data removed]",
      "text/plain": [
       "<Figure size 720x216 with 3 Axes>"
      ]
     },
     "metadata": {
      "needs_background": "light"
     },
     "output_type": "display_data"
    }
   ],
   "source": [
    "image_1 = np.asarray(ts[slice_index_1])\n",
    "image_2 = np.asarray(ts[slice_index_2])\n",
    "diff = image_1 - image_2\n",
    "\n",
    "fig, ax = plt.subplots(ncols=3, figsize=(10,3))\n",
    "ax[0].imshow(image_1)\n",
    "ax[1].imshow(image_2)\n",
    "ax[2].imshow(diff)\n"
   ]
  },
  {
   "cell_type": "markdown",
   "id": "72200e8a",
   "metadata": {},
   "source": [
    "## Functions"
   ]
  },
  {
   "cell_type": "code",
   "execution_count": 132,
   "id": "a3657b13",
   "metadata": {},
   "outputs": [],
   "source": [
    "# These functions are only used for this notebook, not for zarpaint\n",
    "# It's convenient to have an easy way to delete label scribbling\n",
    "\n",
    "def erase_slices(label_layer, slice_index_1, slice_index_2, interp_dim=0):\n",
    "    \"\"\"Erase label data on slices between slice_index_1 (inclusive),\n",
    "    and slice_index_2 (non-inclusive, same as the python slicing syntax).\"\"\"\n",
    "    for slice_number in range(slice_index_1, slice_index_2):\n",
    "        slices = [slice(None) for _ in label_layer.data.shape]\n",
    "        slices[interp_dim] = slice_number\n",
    "        label_layer.data[slices] = 0\n",
    "    label_layer.refresh()\n",
    "\n",
    "    \n",
    "def erase_all_slices(label_layer):\n",
    "    for i in label_layer.data:\n",
    "        i[...] = 0\n",
    "    label_layer.refresh()  # refresh current view"
   ]
  },
  {
   "cell_type": "markdown",
   "id": "0ba7e762",
   "metadata": {},
   "source": [
    "These functions are for zarpaint..."
   ]
  },
  {
   "cell_type": "code",
   "execution_count": 134,
   "id": "83658b31",
   "metadata": {},
   "outputs": [],
   "source": [
    "import numpy as np\n",
    "from scipy.interpolate import interpn\n",
    "from scipy.ndimage import distance_transform_edt\n",
    "\n",
    "\n",
    "def distance_transform(image):\n",
    "    \"\"\"Distance transform for a boolean image.\n",
    "    \n",
    "    Returns positive values inside the object,\n",
    "    and negative values outside.\n",
    "    \"\"\"\n",
    "    image = image.astype(bool)\n",
    "    edt = distance_transform_edt(image) - distance_transform_edt(~image)\n",
    "    return edt\n",
    "\n",
    "\n",
    "def point_and_values(image_1, image_2):\n",
    "    edt_1 = distance_transform(image_1)\n",
    "    edt_2 = distance_transform(image_2)\n",
    "    values = np.stack([edt_1, edt_2], axis=interp_dim)\n",
    "    points = tuple([np.arange(i) for i in values.shape])\n",
    "    return points, values\n",
    "\n",
    "\n",
    "def xi_coords(shape, percent=0.5):\n",
    "    slices = [slice(0, i) for i in shape]\n",
    "    xi = np.moveaxis(np.mgrid[slices], 0, -1).reshape(np.prod(shape), len(shape))\n",
    "    xi = xi = np.c_[np.full((np.prod(shape)), percent), xi]\n",
    "    return xi\n",
    "\n",
    "\n",
    "def slice_iterator(slice_index_1, slice_index_2):\n",
    "    intermediate_slices = np.arange(slice_index_1 + 1, slice_index_2)\n",
    "    n_slices = slice_index_2 - slice_index_1 + 1  # inclusive\n",
    "    stepsize = 1 / n_slices\n",
    "    intermediate_percentages = np.arange(0 + stepsize, 1, stepsize)\n",
    "    return zip(intermediate_slices, intermediate_percentages)\n",
    "\n",
    "\n",
    "def interpolated_slice(percent, points, values, interp_dim=0, method='linear'):\n",
    "    # Find the original image shape\n",
    "    img_shape = list(values.shape)\n",
    "    del img_shape[interp_dim]\n",
    "    # Calculate the interpolated slice\n",
    "    xi = xi_coords(img_shape, percent=percent)\n",
    "    interpolated_img = interpn(points, values, xi, method=method)\n",
    "    interpolated_img = np.reshape(interpolated_img, img_shape) > 0\n",
    "    return interpolated_img\n",
    "    "
   ]
  },
  {
   "cell_type": "code",
   "execution_count": 126,
   "id": "3be6323c",
   "metadata": {},
   "outputs": [
    {
     "name": "stdout",
     "output_type": "stream",
     "text": [
      "(7, 256, 256)\n"
     ]
    }
   ],
   "source": [
    "# ## First draft, simply returns a numpy stack of the interpolated slices\n",
    "\n",
    "# def interpolate_between_slices(image_1, image_2, slice_index_1, slice_index_2, interp_dim=0, method='linear'):\n",
    "#     if slice_index_1 > slice_index_2:\n",
    "#         image_1, image_2 = image_2, image_1\n",
    "#         slice_index_1, slice_index_2 = slice_index_2, slice_index_1\n",
    "#     ####\n",
    "#     # possible extension, handle all label ids separately\n",
    "#     label_id = 1\n",
    "#     image_1 = image_1.astype(bool)\n",
    "#     image_2 = image_2.astype(bool)\n",
    "#     ####\n",
    "#     edt_1 = distance_transform(image_1)\n",
    "#     edt_2 = distance_transform(image_2)\n",
    "#     values = np.stack([edt_1, edt_2], axis=interp_dim)\n",
    "#     points = tuple([np.arange(i) for i in values.shape])\n",
    "\n",
    "#     output = []\n",
    "#     for slice_number, percentage in slice_iterator(slice_index_1, slice_index_2):\n",
    "#         interpolated_img = interpolated_slice(percentage, points, values, interp_dim=interp_dim, method='linear')\n",
    "#         output.append(interpolated_img)\n",
    "#     output = np.array(output)\n",
    "#     return output\n",
    "\n",
    "\n",
    "# result = interpolate_between_slices(image_1, image_2, slice_index_1, slice_index_2)\n",
    "# print(result.shape)"
   ]
  },
  {
   "cell_type": "code",
   "execution_count": 139,
   "id": "9b00f986",
   "metadata": {},
   "outputs": [
    {
     "name": "stdout",
     "output_type": "stream",
     "text": [
      "Done!\n",
      "Please scroll through napari to see the interpolated label slices\n"
     ]
    }
   ],
   "source": [
    "## Second draft, writes directly into tensorstore zarr array\n",
    "\n",
    "def interpolate_between_slices(label_layer, image_1, image_2, slice_index_1, slice_index_2, interp_dim=0, method='linear'):\n",
    "    if slice_index_1 > slice_index_2:\n",
    "        image_1, image_2 = image_2, image_1\n",
    "        slice_index_1, slice_index_2 = slice_index_2, slice_index_1\n",
    "    ####\n",
    "    # possible extension, handle all label ids separately\n",
    "    label_id = 1\n",
    "    image_1 = image_1.astype(bool)\n",
    "    image_2 = image_2.astype(bool)\n",
    "    ####\n",
    "    points, values = point_and_values(image_1, image_2)\n",
    "\n",
    "    for slice_number, percentage in slice_iterator(slice_index_1, slice_index_2):\n",
    "        interpolated_img = interpolated_slice(percentage, points, values, interp_dim=interp_dim, method='linear')\n",
    "        label_layer.data[slice_number, interpolated_img] = label_id\n",
    "    label_layer.refresh()  # will update the current view\n",
    "\n",
    "interpolate_between_slices(label_layer, image_1, image_2, slice_index_1, slice_index_2)\n",
    "print(\"Done!\")\n",
    "print(\"Please scroll through napari to see the interpolated label slices\")\n"
   ]
  },
  {
   "cell_type": "markdown",
   "id": "449d7c17",
   "metadata": {},
   "source": [
    "## Sanity check\n",
    "\n",
    "Check that an interpolation percentage of zero returns a result equal to the input image_1.\n",
    "Check that an interpolation percentage of one returns a result equal to the input image_2."
   ]
  },
  {
   "cell_type": "code",
   "execution_count": 137,
   "id": "fc7528be",
   "metadata": {},
   "outputs": [],
   "source": [
    "interp_dim = 0\n",
    "label_id = 1\n",
    "\n",
    "points, values = point_and_values(image_1, image_2)\n",
    "\n",
    "output_1 = interpolated_slice(0.0, points, values, interp_dim=interp_dim)\n",
    "output_2 = interpolated_slice(1.0, points, values, interp_dim=interp_dim)\n",
    "\n",
    "assert np.allclose(image_1.astype(bool), interpolated_slice(0.0, points, values, interp_dim=interp_dim))\n",
    "assert np.allclose(image_2.astype(bool), interpolated_slice(1.0, points, values, interp_dim=interp_dim))"
   ]
  },
  {
   "cell_type": "code",
   "execution_count": null,
   "id": "6e7a9130",
   "metadata": {},
   "outputs": [],
   "source": []
  },
  {
   "cell_type": "markdown",
   "id": "d9f0472d",
   "metadata": {},
   "source": [
    "## Test cases\n",
    "* a simple 3D test case (interpolating 2D slices)\n",
    "  * assert when percent = 0, the result exactly matches the input image_1\n",
    "  * assert when percent = 1.0, the result exactly matches the input image_2\n",
    "  * check results against a previous computation\n",
    "* A test case with multiple label id values\n",
    "* A 4D test case (interpolate across time points, from two labelled 3d blobs)\n",
    "* Check code is robust as to which order image_2 and image_2 are given (eg: user can be scrolling forwards OR backwards through the slices)\n",
    "* A test case when the structure is branching (one input blob turns into two output blobs)"
   ]
  },
  {
   "cell_type": "markdown",
   "id": "94872f6e",
   "metadata": {},
   "source": [
    "## TODO\n",
    "\n",
    "- [ ] Full docstrings for all functions\n",
    "- [ ] Basic test cases\n",
    "- [ ] Extend to multiple label id values\n",
    "- [ ] Consider extending functionality so we only need bring a small cropped section of each slice into memory, instead of needing to convert the full slice to numpy\n",
    "- [ ] "
   ]
  },
  {
   "cell_type": "code",
   "execution_count": null,
   "id": "fac9732a",
   "metadata": {},
   "outputs": [],
   "source": [
    "viewer.close()"
   ]
  },
  {
   "cell_type": "code",
   "execution_count": null,
   "id": "91c24ec4",
   "metadata": {},
   "outputs": [],
   "source": []
  }
 ],
 "metadata": {
  "kernelspec": {
   "display_name": "Python 3 (ipykernel)",
   "language": "python",
   "name": "python3"
  },
  "language_info": {
   "codemirror_mode": {
    "name": "ipython",
    "version": 3
   },
   "file_extension": ".py",
   "mimetype": "text/x-python",
   "name": "python",
   "nbconvert_exporter": "python",
   "pygments_lexer": "ipython3",
   "version": "3.9.12"
  }
 },
 "nbformat": 4,
 "nbformat_minor": 5
}
