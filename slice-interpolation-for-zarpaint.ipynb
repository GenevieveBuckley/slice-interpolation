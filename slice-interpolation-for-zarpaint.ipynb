{
 "cells": [
  {
   "cell_type": "markdown",
   "id": "6bce021e",
   "metadata": {},
   "source": [
    "# Slice interpolation for labels in zarpaint"
   ]
  },
  {
   "cell_type": "markdown",
   "id": "052bb9eb",
   "metadata": {},
   "source": [
    "## Resources\n",
    "\n",
    "* Paper:  Raya and Udupa \"Shape-Based Interpolation of Multidimensional Objects\" IEEE TRANSACTIONS ON MEDICAL IMAGING, VOL. 9, NO. I , MARCH 1990\n",
    "* [This StackOverflow post](https://stackoverflow.com/questions/48818373/interpolate-between-two-images) (not well executed for nd, but useful to read anyway)\n"
   ]
  },
  {
   "cell_type": "markdown",
   "id": "1d06c5e7",
   "metadata": {},
   "source": [
    "## Set up some example data"
   ]
  },
  {
   "cell_type": "code",
   "execution_count": 1,
   "id": "0c66a7d0",
   "metadata": {},
   "outputs": [],
   "source": [
    "import os\n",
    "import matplotlib.pyplot as plt\n",
    "import numpy as np\n",
    "\n",
    "%matplotlib inline"
   ]
  },
  {
   "cell_type": "code",
   "execution_count": 2,
   "id": "6bdd9cbd",
   "metadata": {},
   "outputs": [],
   "source": [
    "import napari"
   ]
  },
  {
   "cell_type": "code",
   "execution_count": 3,
   "id": "c88efc99",
   "metadata": {},
   "outputs": [],
   "source": [
    "viewer = napari.Viewer()\n",
    "# viewer.open_sample('napari', 'cells3d')\n",
    "# membrane_layer = viewer.layers[0]\n",
    "# nuclei_layer = viewer.layers[1]"
   ]
  },
  {
   "cell_type": "code",
   "execution_count": 4,
   "id": "378903ae",
   "metadata": {},
   "outputs": [
    {
     "data": {
      "text/plain": [
       "<Image layer 'blobs' at 0x1ab5cebeeb0>"
      ]
     },
     "execution_count": 4,
     "metadata": {},
     "output_type": "execute_result"
    }
   ],
   "source": [
    "from skimage import data\n",
    "blobs = np.stack(\n",
    "    [\n",
    "        data.binary_blobs(\n",
    "            length=128, blob_size_fraction=0.05, n_dim=3, volume_fraction=f, seed=0\n",
    "        )\n",
    "        for f in np.linspace(0.05, 0.5, 10)\n",
    "    ],\n",
    "    axis=0,\n",
    ")\n",
    "viewer.add_image(blobs)\n",
    "\n",
    "# # numpy label data\n",
    "# single_nuclei_label = tifffile.imread('single-nuclei-label.tif')\n",
    "# viewer.add_labels(single_nuclei_label)\n",
    "# label_layer = viewer.layers[-1]\n",
    "# labels = label_layer.data"
   ]
  },
  {
   "cell_type": "markdown",
   "id": "7b3afda5",
   "metadata": {},
   "source": [
    "## Manually create labels with zarpaint GUI\n",
    "\n",
    "1. Plugins > zarpaint > create labels\n",
    "2. Create a new zarr file called \"mylabels.zarr\"\n",
    "3. Click \"Run\" in the zarpaint widget\n",
    "4. Label the same nucleus at two different slices (take note of which slice numbers)"
   ]
  },
  {
   "cell_type": "code",
   "execution_count": 47,
   "id": "a34808c0",
   "metadata": {},
   "outputs": [],
   "source": [
    "# Make note of which image slices you labelled\n",
    "slice_index_1 = 60\n",
    "slice_index_2 = 70\n",
    "interp_dim = 1"
   ]
  },
  {
   "cell_type": "markdown",
   "id": "c1b279a2",
   "metadata": {},
   "source": [
    "## Exploring the tensorstore labels"
   ]
  },
  {
   "cell_type": "code",
   "execution_count": 48,
   "id": "119114bf",
   "metadata": {},
   "outputs": [
    {
     "name": "stdout",
     "output_type": "stream",
     "text": [
      "TensorStore({\n",
      "  'context': {\n",
      "    'cache_pool': {},\n",
      "    'data_copy_concurrency': {},\n",
      "    'file_io_concurrency': {},\n",
      "  },\n",
      "  'driver': 'zarr',\n",
      "  'dtype': 'uint32',\n",
      "  'kvstore': {'driver': 'file', 'path': 'myblobs4d/'},\n",
      "  'metadata': {\n",
      "    'chunks': [1, 1, 128, 128],\n",
      "    'compressor': {\n",
      "      'blocksize': 0,\n",
      "      'clevel': 5,\n",
      "      'cname': 'lz4',\n",
      "      'id': 'blosc',\n",
      "      'shuffle': 1,\n",
      "    },\n",
      "    'dimension_separator': '.',\n",
      "    'dtype': '<u4',\n",
      "    'fill_value': 0,\n",
      "    'filters': None,\n",
      "    'order': 'C',\n",
      "    'shape': [10, 128, 128, 128],\n",
      "    'zarr_format': 2,\n",
      "  },\n",
      "  'transform': {\n",
      "    'input_exclusive_max': [[10], [128], [128], [128]],\n",
      "    'input_inclusive_min': [0, 0, 0, 0],\n",
      "  },\n",
      "})\n"
     ]
    }
   ],
   "source": [
    "# after you have done the manual steps above, run this cell\n",
    "label_layer = viewer.layers[-1]\n",
    "ts = label_layer.data  # tensorstore data for the labels\n",
    "print(ts)"
   ]
  },
  {
   "cell_type": "code",
   "execution_count": 31,
   "id": "c31ef2c8",
   "metadata": {},
   "outputs": [
    {
     "name": "stdout",
     "output_type": "stream",
     "text": [
      "[[[0 0 0 ... 0 0 0]\n",
      "  [0 0 0 ... 0 0 0]\n",
      "  [0 0 0 ... 0 0 0]\n",
      "  ...\n",
      "  [0 0 0 ... 0 0 0]\n",
      "  [0 0 0 ... 0 0 0]\n",
      "  [0 0 0 ... 0 0 0]]\n",
      "\n",
      " [[0 0 0 ... 0 0 0]\n",
      "  [0 0 0 ... 0 0 0]\n",
      "  [0 0 0 ... 0 0 0]\n",
      "  ...\n",
      "  [0 0 0 ... 0 0 0]\n",
      "  [0 0 0 ... 0 0 0]\n",
      "  [0 0 0 ... 0 0 0]]\n",
      "\n",
      " [[0 0 0 ... 0 0 0]\n",
      "  [0 0 0 ... 0 0 0]\n",
      "  [0 0 0 ... 0 0 0]\n",
      "  ...\n",
      "  [0 0 0 ... 0 0 0]\n",
      "  [0 0 0 ... 0 0 0]\n",
      "  [0 0 0 ... 0 0 0]]\n",
      "\n",
      " ...\n",
      "\n",
      " [[0 0 0 ... 0 0 0]\n",
      "  [0 0 0 ... 0 0 0]\n",
      "  [0 0 0 ... 0 0 0]\n",
      "  ...\n",
      "  [0 0 0 ... 0 0 0]\n",
      "  [0 0 0 ... 0 0 0]\n",
      "  [0 0 0 ... 0 0 0]]\n",
      "\n",
      " [[0 0 0 ... 0 0 0]\n",
      "  [0 0 0 ... 0 0 0]\n",
      "  [0 0 0 ... 0 0 0]\n",
      "  ...\n",
      "  [0 0 0 ... 0 0 0]\n",
      "  [0 0 0 ... 0 0 0]\n",
      "  [0 0 0 ... 0 0 0]]\n",
      "\n",
      " [[0 0 0 ... 0 0 0]\n",
      "  [0 0 0 ... 0 0 0]\n",
      "  [0 0 0 ... 0 0 0]\n",
      "  ...\n",
      "  [0 0 0 ... 0 0 0]\n",
      "  [0 0 0 ... 0 0 0]\n",
      "  [0 0 0 ... 0 0 0]]]\n"
     ]
    }
   ],
   "source": [
    "print(np.take(label_layer.data, slice_index_1, axis=interp_dim))"
   ]
  },
  {
   "cell_type": "code",
   "execution_count": 49,
   "id": "c8950929",
   "metadata": {},
   "outputs": [],
   "source": [
    "image_1 = np.take(label_layer.data, slice_index_1, axis=interp_dim)\n",
    "image_2 = np.take(label_layer.data, slice_index_2, axis=interp_dim)"
   ]
  },
  {
   "cell_type": "code",
   "execution_count": 50,
   "id": "a6c7ab8d",
   "metadata": {},
   "outputs": [
    {
     "name": "stdout",
     "output_type": "stream",
     "text": [
      "[[[0 0 0 ... 0 0 0]\n",
      "  [0 0 0 ... 0 0 0]\n",
      "  [0 0 0 ... 0 0 0]\n",
      "  ...\n",
      "  [0 0 0 ... 0 0 0]\n",
      "  [0 0 0 ... 0 0 0]\n",
      "  [0 0 0 ... 0 0 0]]\n",
      "\n",
      " [[0 0 0 ... 0 0 0]\n",
      "  [0 0 0 ... 0 0 0]\n",
      "  [0 0 0 ... 0 0 0]\n",
      "  ...\n",
      "  [0 0 0 ... 0 0 0]\n",
      "  [0 0 0 ... 0 0 0]\n",
      "  [0 0 0 ... 0 0 0]]\n",
      "\n",
      " [[0 0 0 ... 0 0 0]\n",
      "  [0 0 0 ... 0 0 0]\n",
      "  [0 0 0 ... 0 0 0]\n",
      "  ...\n",
      "  [0 0 0 ... 0 0 0]\n",
      "  [0 0 0 ... 0 0 0]\n",
      "  [0 0 0 ... 0 0 0]]\n",
      "\n",
      " ...\n",
      "\n",
      " [[0 0 0 ... 0 0 0]\n",
      "  [0 0 0 ... 0 0 0]\n",
      "  [0 0 0 ... 0 0 0]\n",
      "  ...\n",
      "  [0 0 0 ... 0 0 0]\n",
      "  [0 0 0 ... 0 0 0]\n",
      "  [0 0 0 ... 0 0 0]]\n",
      "\n",
      " [[0 0 0 ... 0 0 0]\n",
      "  [0 0 0 ... 0 0 0]\n",
      "  [0 0 0 ... 0 0 0]\n",
      "  ...\n",
      "  [0 0 0 ... 0 0 0]\n",
      "  [0 0 0 ... 0 0 0]\n",
      "  [0 0 0 ... 0 0 0]]\n",
      "\n",
      " [[0 0 0 ... 0 0 0]\n",
      "  [0 0 0 ... 0 0 0]\n",
      "  [0 0 0 ... 0 0 0]\n",
      "  ...\n",
      "  [0 0 0 ... 0 0 0]\n",
      "  [0 0 0 ... 0 0 0]\n",
      "  [0 0 0 ... 0 0 0]]]\n",
      "\n",
      "numpy array values:\n",
      "\n",
      "[[[0 0 0 ... 0 0 0]\n",
      "  [0 0 0 ... 0 0 0]\n",
      "  [0 0 0 ... 0 0 0]\n",
      "  ...\n",
      "  [0 0 0 ... 0 0 0]\n",
      "  [0 0 0 ... 0 0 0]\n",
      "  [0 0 0 ... 0 0 0]]\n",
      "\n",
      " [[0 0 0 ... 0 0 0]\n",
      "  [0 0 0 ... 0 0 0]\n",
      "  [0 0 0 ... 0 0 0]\n",
      "  ...\n",
      "  [0 0 0 ... 0 0 0]\n",
      "  [0 0 0 ... 0 0 0]\n",
      "  [0 0 0 ... 0 0 0]]\n",
      "\n",
      " [[0 0 0 ... 0 0 0]\n",
      "  [0 0 0 ... 0 0 0]\n",
      "  [0 0 0 ... 0 0 0]\n",
      "  ...\n",
      "  [0 0 0 ... 0 0 0]\n",
      "  [0 0 0 ... 0 0 0]\n",
      "  [0 0 0 ... 0 0 0]]\n",
      "\n",
      " ...\n",
      "\n",
      " [[0 0 0 ... 0 0 0]\n",
      "  [0 0 0 ... 0 0 0]\n",
      "  [0 0 0 ... 0 0 0]\n",
      "  ...\n",
      "  [0 0 0 ... 0 0 0]\n",
      "  [0 0 0 ... 0 0 0]\n",
      "  [0 0 0 ... 0 0 0]]\n",
      "\n",
      " [[0 0 0 ... 0 0 0]\n",
      "  [0 0 0 ... 0 0 0]\n",
      "  [0 0 0 ... 0 0 0]\n",
      "  ...\n",
      "  [0 0 0 ... 0 0 0]\n",
      "  [0 0 0 ... 0 0 0]\n",
      "  [0 0 0 ... 0 0 0]]\n",
      "\n",
      " [[0 0 0 ... 0 0 0]\n",
      "  [0 0 0 ... 0 0 0]\n",
      "  [0 0 0 ... 0 0 0]\n",
      "  ...\n",
      "  [0 0 0 ... 0 0 0]\n",
      "  [0 0 0 ... 0 0 0]\n",
      "  [0 0 0 ... 0 0 0]]]\n"
     ]
    }
   ],
   "source": [
    "print(image_1)\n",
    "print(\"\")\n",
    "print(\"numpy array values:\\n\")\n",
    "print(np.asarray(image_1))\n"
   ]
  },
  {
   "cell_type": "code",
   "execution_count": 52,
   "id": "7fa99451",
   "metadata": {},
   "outputs": [
    {
     "name": "stdout",
     "output_type": "stream",
     "text": [
      "97\n",
      "155\n"
     ]
    }
   ],
   "source": [
    "print(np.sum(image_1))\n",
    "print(np.sum(image_2))\n"
   ]
  },
  {
   "cell_type": "code",
   "execution_count": 53,
   "id": "31b288bc",
   "metadata": {},
   "outputs": [
    {
     "data": {
      "text/plain": [
       "<matplotlib.image.AxesImage at 0x1ab72d6ec40>"
      ]
     },
     "execution_count": 53,
     "metadata": {},
     "output_type": "execute_result"
    },
    {
     "data": {
      "image/png": "[encoded data removed]",
      "text/plain": [
       "<Figure size 720x216 with 3 Axes>"
      ]
     },
     "metadata": {
      "needs_background": "light"
     },
     "output_type": "display_data"
    }
   ],
   "source": [
    "diff = image_1 - image_2\n",
    "\n",
    "fig, ax = plt.subplots(ncols=3, figsize=(10,3))\n",
    "ax[0].imshow(image_1[0])  # 4D original dataset\n",
    "ax[1].imshow(image_2[0])  # 4D original dataset\n",
    "ax[2].imshow(diff[0])     # 4D original dataset\n"
   ]
  },
  {
   "cell_type": "markdown",
   "id": "72200e8a",
   "metadata": {},
   "source": [
    "## Functions"
   ]
  },
  {
   "cell_type": "code",
   "execution_count": 5,
   "id": "a3657b13",
   "metadata": {},
   "outputs": [],
   "source": [
    "# These functions are only used for this notebook, not for zarpaint\n",
    "# It's convenient to have an easy way to delete label scribbling\n",
    "\n",
    "def erase_slices(label_layer, slice_index_1, slice_index_2, interp_dim=0):\n",
    "    \"\"\"Erase label data on slices between slice_index_1 (inclusive),\n",
    "    and slice_index_2 (non-inclusive, same as the python slicing syntax).\"\"\"\n",
    "    for slice_number in range(slice_index_1, slice_index_2):\n",
    "        slices = [slice(None) for _ in label_layer.data.shape]\n",
    "        slices[interp_dim] = slice_number\n",
    "        label_layer.data[slices] = 0\n",
    "    label_layer.refresh()\n",
    "\n",
    "    \n",
    "def erase_all_slices(label_layer):\n",
    "    for i in label_layer.data:\n",
    "        i[...] = 0\n",
    "    label_layer.refresh()  # refresh current view"
   ]
  },
  {
   "cell_type": "markdown",
   "id": "0ba7e762",
   "metadata": {},
   "source": [
    "These functions are for zarpaint..."
   ]
  },
  {
   "cell_type": "code",
   "execution_count": 126,
   "id": "83658b31",
   "metadata": {},
   "outputs": [],
   "source": [
    "import numpy as np\n",
    "from scipy.interpolate import interpn\n",
    "from scipy.ndimage import distance_transform_edt\n",
    "\n",
    "\n",
    "def distance_transform(image):\n",
    "    \"\"\"Distance transform for a boolean image.\n",
    "    \n",
    "    Returns positive values inside the object,\n",
    "    and negative values outside.\n",
    "    \"\"\"\n",
    "    image = image.astype(bool)\n",
    "    edt = distance_transform_edt(image) - distance_transform_edt(~image)\n",
    "    return edt\n",
    "\n",
    "\n",
    "def point_and_values(image_1, image_2, interp_dim=0):\n",
    "    edt_1 = distance_transform(image_1)\n",
    "    edt_2 = distance_transform(image_2)\n",
    "    values = np.stack([edt_1, edt_2], axis=interp_dim)\n",
    "    points = tuple([np.arange(i) for i in values.shape])\n",
    "    return points, values\n",
    "\n",
    "\n",
    "def xi_coords(shape, percent=0.5):\n",
    "    slices = [slice(0, i) for i in shape]\n",
    "    xi = np.moveaxis(np.mgrid[slices], 0, -1).reshape(np.prod(shape), len(shape))\n",
    "    xi = np.moveaxis(np.mgrid[slices], 0, -1).reshape(np.prod(shape), len(shape)).astype('float')\n",
    "    return xi\n",
    "\n",
    "\n",
    "def slice_iterator(slice_index_1, slice_index_2):\n",
    "    intermediate_slices = np.arange(slice_index_1 + 1, slice_index_2)\n",
    "    n_slices = slice_index_2 - slice_index_1 + 1  # inclusive\n",
    "    stepsize = 1 / n_slices\n",
    "    intermediate_percentages = np.arange(0 + stepsize, 1, stepsize)\n",
    "    return zip(intermediate_slices, intermediate_percentages)\n",
    "\n",
    "\n",
    "def interpolated_slice(percent, points, values, interp_dim=0, method='linear'):\n",
    "    # Find the original image shape\n",
    "    img_shape = list(values.shape)\n",
    "    del img_shape[interp_dim]\n",
    "    # Calculate the interpolated slice\n",
    "    xi = xi_coords(img_shape, percent=percent)\n",
    "    interpolated_img = interpn(points, values, xi, method=method)\n",
    "    interpolated_img = np.reshape(interpolated_img, img_shape) > 0\n",
    "    return interpolated_img\n",
    "    "
   ]
  },
  {
   "cell_type": "code",
   "execution_count": 127,
   "id": "3be6323c",
   "metadata": {},
   "outputs": [],
   "source": [
    "\n",
    "\n",
    "\n",
    "\n",
    "# ## First draft, simply returns a numpy stack of the interpolated slices\n",
    "\n",
    "# def interpolate_between_slices(image_1, image_2, slice_index_1, slice_index_2, interp_dim=0, method='linear'):\n",
    "#     if slice_index_1 > slice_index_2:\n",
    "#         image_1, image_2 = image_2, image_1\n",
    "#         slice_index_1, slice_index_2 = slice_index_2, slice_index_1\n",
    "#     ####\n",
    "#     # possible extension, handle all label ids separately\n",
    "#     label_id = 1\n",
    "#     image_1 = image_1.astype(bool)\n",
    "#     image_2 = image_2.astype(bool)\n",
    "#     ####\n",
    "#     edt_1 = distance_transform(image_1)\n",
    "#     edt_2 = distance_transform(image_2)\n",
    "#     values = np.stack([edt_1, edt_2], axis=interp_dim)\n",
    "#     points = tuple([np.arange(i) for i in values.shape])\n",
    "\n",
    "#     output = []\n",
    "#     for slice_number, percentage in slice_iterator(slice_index_1, slice_index_2):\n",
    "#         interpolated_img = interpolated_slice(percentage, points, values, interp_dim=interp_dim, method='linear')\n",
    "#         output.append(interpolated_img)\n",
    "#     output = np.array(output)\n",
    "#     return output\n",
    "\n",
    "\n",
    "# result = interpolate_between_slices(image_1, image_2, slice_index_1, slice_index_2)\n",
    "# print(result.shape)"
   ]
  },
  {
   "cell_type": "code",
   "execution_count": 128,
   "id": "9b00f986",
   "metadata": {},
   "outputs": [],
   "source": [
    "## Second draft, writes directly into tensorstore zarr array\n",
    "\n",
    "def interpolate_between_slices(label_layer, image_1, image_2, slice_index_1, slice_index_2, interp_dim=0, method='linear'):\n",
    "    if slice_index_1 > slice_index_2:\n",
    "        image_1, image_2 = image_2, image_1\n",
    "        slice_index_1, slice_index_2 = slice_index_2, slice_index_1\n",
    "    ####\n",
    "    # possible extension, handle all label ids separately\n",
    "    label_id = 1\n",
    "    image_1 = image_1.astype(bool)\n",
    "    image_2 = image_2.astype(bool)\n",
    "    ####\n",
    "    points, values = point_and_values(image_1, image_2, interp_dim=interp_dim)\n",
    "\n",
    "    for slice_number, percentage in slice_iterator(slice_index_1, slice_index_2):\n",
    "        interpolated_img = interpolated_slice(percentage, points, values, interp_dim=interp_dim, method='linear')\n",
    "        indices = np.argwhere(interpolated_img)\n",
    "        indices = np.insert(indices, interp_dim, slice_number, axis=1)\n",
    "        label_layer.data[indices] = label_id\n",
    "    label_layer.refresh()  # will update the current view\n",
    "\n",
    "# interpolate_between_slices(label_layer, image_1, image_2, slice_index_1, slice_index_2)\n",
    "# print(\"Done!\")\n",
    "# print(\"Please scroll through napari to see the interpolated label slices\")\n"
   ]
  },
  {
   "cell_type": "code",
   "execution_count": 129,
   "id": "0744b5a8",
   "metadata": {},
   "outputs": [
    {
     "ename": "ValueError",
     "evalue": "The requested sample points xi have dimension 3, but this RegularGridInterpolator has dimension 4",
     "output_type": "error",
     "traceback": [
      "\u001b[1;31m---------------------------------------------------------------------------\u001b[0m",
      "\u001b[1;31mValueError\u001b[0m                                Traceback (most recent call last)",
      "\u001b[1;32mc:\\Users\\User\\projects\\slice-interpolation\\slice-interpolation-for-zarpaint.ipynb Cell 23'\u001b[0m in \u001b[0;36m<cell line: 2>\u001b[1;34m()\u001b[0m\n\u001b[0;32m      <a href='vscode-notebook-cell:/c%3A/Users/User/projects/slice-interpolation/slice-interpolation-for-zarpaint.ipynb#ch0000030?line=0'>1</a>\u001b[0m interp_dim \u001b[39m=\u001b[39m \u001b[39m1\u001b[39m\n\u001b[1;32m----> <a href='vscode-notebook-cell:/c%3A/Users/User/projects/slice-interpolation/slice-interpolation-for-zarpaint.ipynb#ch0000030?line=1'>2</a>\u001b[0m interpolate_between_slices(label_layer, image_1, image_2, slice_index_1, slice_index_2, interp_dim\u001b[39m=\u001b[39;49minterp_dim)\n\u001b[0;32m      <a href='vscode-notebook-cell:/c%3A/Users/User/projects/slice-interpolation/slice-interpolation-for-zarpaint.ipynb#ch0000030?line=2'>3</a>\u001b[0m \u001b[39mprint\u001b[39m(\u001b[39m\"\u001b[39m\u001b[39mDone!\u001b[39m\u001b[39m\"\u001b[39m)\n\u001b[0;32m      <a href='vscode-notebook-cell:/c%3A/Users/User/projects/slice-interpolation/slice-interpolation-for-zarpaint.ipynb#ch0000030?line=3'>4</a>\u001b[0m \u001b[39mprint\u001b[39m(\u001b[39m\"\u001b[39m\u001b[39mPlease scroll through napari to see the interpolated label slices\u001b[39m\u001b[39m\"\u001b[39m)\n",
      "\u001b[1;32mc:\\Users\\User\\projects\\slice-interpolation\\slice-interpolation-for-zarpaint.ipynb Cell 22'\u001b[0m in \u001b[0;36minterpolate_between_slices\u001b[1;34m(label_layer, image_1, image_2, slice_index_1, slice_index_2, interp_dim, method)\u001b[0m\n\u001b[0;32m     <a href='vscode-notebook-cell:/c%3A/Users/User/projects/slice-interpolation/slice-interpolation-for-zarpaint.ipynb#ch0000018?line=12'>13</a>\u001b[0m points, values \u001b[39m=\u001b[39m point_and_values(image_1, image_2, interp_dim\u001b[39m=\u001b[39minterp_dim)\n\u001b[0;32m     <a href='vscode-notebook-cell:/c%3A/Users/User/projects/slice-interpolation/slice-interpolation-for-zarpaint.ipynb#ch0000018?line=14'>15</a>\u001b[0m \u001b[39mfor\u001b[39;00m slice_number, percentage \u001b[39min\u001b[39;00m slice_iterator(slice_index_1, slice_index_2):\n\u001b[1;32m---> <a href='vscode-notebook-cell:/c%3A/Users/User/projects/slice-interpolation/slice-interpolation-for-zarpaint.ipynb#ch0000018?line=15'>16</a>\u001b[0m     interpolated_img \u001b[39m=\u001b[39m interpolated_slice(percentage, points, values, interp_dim\u001b[39m=\u001b[39;49minterp_dim, method\u001b[39m=\u001b[39;49m\u001b[39m'\u001b[39;49m\u001b[39mlinear\u001b[39;49m\u001b[39m'\u001b[39;49m)\n\u001b[0;32m     <a href='vscode-notebook-cell:/c%3A/Users/User/projects/slice-interpolation/slice-interpolation-for-zarpaint.ipynb#ch0000018?line=16'>17</a>\u001b[0m     indices \u001b[39m=\u001b[39m np\u001b[39m.\u001b[39margwhere(interpolated_img)\n\u001b[0;32m     <a href='vscode-notebook-cell:/c%3A/Users/User/projects/slice-interpolation/slice-interpolation-for-zarpaint.ipynb#ch0000018?line=17'>18</a>\u001b[0m     indices \u001b[39m=\u001b[39m np\u001b[39m.\u001b[39minsert(indices, interp_dim, slice_number, axis\u001b[39m=\u001b[39m\u001b[39m1\u001b[39m)\n",
      "\u001b[1;32mc:\\Users\\User\\projects\\slice-interpolation\\slice-interpolation-for-zarpaint.ipynb Cell 20'\u001b[0m in \u001b[0;36minterpolated_slice\u001b[1;34m(percent, points, values, interp_dim, method)\u001b[0m\n\u001b[0;32m     <a href='vscode-notebook-cell:/c%3A/Users/User/projects/slice-interpolation/slice-interpolation-for-zarpaint.ipynb#ch0000016?line=43'>44</a>\u001b[0m \u001b[39m# Calculate the interpolated slice\u001b[39;00m\n\u001b[0;32m     <a href='vscode-notebook-cell:/c%3A/Users/User/projects/slice-interpolation/slice-interpolation-for-zarpaint.ipynb#ch0000016?line=44'>45</a>\u001b[0m xi \u001b[39m=\u001b[39m xi_coords(img_shape, percent\u001b[39m=\u001b[39mpercent)\n\u001b[1;32m---> <a href='vscode-notebook-cell:/c%3A/Users/User/projects/slice-interpolation/slice-interpolation-for-zarpaint.ipynb#ch0000016?line=45'>46</a>\u001b[0m interpolated_img \u001b[39m=\u001b[39m interpn(points, values, xi, method\u001b[39m=\u001b[39;49mmethod)\n\u001b[0;32m     <a href='vscode-notebook-cell:/c%3A/Users/User/projects/slice-interpolation/slice-interpolation-for-zarpaint.ipynb#ch0000016?line=46'>47</a>\u001b[0m interpolated_img \u001b[39m=\u001b[39m np\u001b[39m.\u001b[39mreshape(interpolated_img, img_shape) \u001b[39m>\u001b[39m \u001b[39m0\u001b[39m\n\u001b[0;32m     <a href='vscode-notebook-cell:/c%3A/Users/User/projects/slice-interpolation/slice-interpolation-for-zarpaint.ipynb#ch0000016?line=47'>48</a>\u001b[0m \u001b[39mreturn\u001b[39;00m interpolated_img\n",
      "File \u001b[1;32mc:\\Users\\User\\anaconda3\\envs\\napari\\lib\\site-packages\\scipy\\interpolate\\_interpolate.py:2701\u001b[0m, in \u001b[0;36minterpn\u001b[1;34m(points, values, xi, method, bounds_error, fill_value)\u001b[0m\n\u001b[0;32m   <a href='file:///c%3A/Users/User/anaconda3/envs/napari/lib/site-packages/scipy/interpolate/_interpolate.py?line=2698'>2699</a>\u001b[0m xi \u001b[39m=\u001b[39m _ndim_coords_from_arrays(xi, ndim\u001b[39m=\u001b[39m\u001b[39mlen\u001b[39m(grid))\n\u001b[0;32m   <a href='file:///c%3A/Users/User/anaconda3/envs/napari/lib/site-packages/scipy/interpolate/_interpolate.py?line=2699'>2700</a>\u001b[0m \u001b[39mif\u001b[39;00m xi\u001b[39m.\u001b[39mshape[\u001b[39m-\u001b[39m\u001b[39m1\u001b[39m] \u001b[39m!=\u001b[39m \u001b[39mlen\u001b[39m(grid):\n\u001b[1;32m-> <a href='file:///c%3A/Users/User/anaconda3/envs/napari/lib/site-packages/scipy/interpolate/_interpolate.py?line=2700'>2701</a>\u001b[0m     \u001b[39mraise\u001b[39;00m \u001b[39mValueError\u001b[39;00m(\u001b[39m\"\u001b[39m\u001b[39mThe requested sample points xi have dimension \u001b[39m\u001b[39m\"\u001b[39m\n\u001b[0;32m   <a href='file:///c%3A/Users/User/anaconda3/envs/napari/lib/site-packages/scipy/interpolate/_interpolate.py?line=2701'>2702</a>\u001b[0m                      \u001b[39m\"\u001b[39m\u001b[39m%d\u001b[39;00m\u001b[39m, but this RegularGridInterpolator has \u001b[39m\u001b[39m\"\u001b[39m\n\u001b[0;32m   <a href='file:///c%3A/Users/User/anaconda3/envs/napari/lib/site-packages/scipy/interpolate/_interpolate.py?line=2702'>2703</a>\u001b[0m                      \u001b[39m\"\u001b[39m\u001b[39mdimension \u001b[39m\u001b[39m%d\u001b[39;00m\u001b[39m\"\u001b[39m \u001b[39m%\u001b[39m (xi\u001b[39m.\u001b[39mshape[\u001b[39m1\u001b[39m], \u001b[39mlen\u001b[39m(grid)))\n\u001b[0;32m   <a href='file:///c%3A/Users/User/anaconda3/envs/napari/lib/site-packages/scipy/interpolate/_interpolate.py?line=2704'>2705</a>\u001b[0m \u001b[39mif\u001b[39;00m bounds_error:\n\u001b[0;32m   <a href='file:///c%3A/Users/User/anaconda3/envs/napari/lib/site-packages/scipy/interpolate/_interpolate.py?line=2705'>2706</a>\u001b[0m     \u001b[39mfor\u001b[39;00m i, p \u001b[39min\u001b[39;00m \u001b[39menumerate\u001b[39m(xi\u001b[39m.\u001b[39mT):\n",
      "\u001b[1;31mValueError\u001b[0m: The requested sample points xi have dimension 3, but this RegularGridInterpolator has dimension 4"
     ]
    }
   ],
   "source": [
    "interp_dim = 1\n",
    "interpolate_between_slices(label_layer, image_1, image_2, slice_index_1, slice_index_2, interp_dim=interp_dim)\n",
    "print(\"Done!\")\n",
    "print(\"Please scroll through napari to see the interpolated label slices\")"
   ]
  },
  {
   "cell_type": "code",
   "execution_count": 63,
   "id": "bcaf0137",
   "metadata": {},
   "outputs": [],
   "source": [
    "\n",
    "label_id = 1\n",
    "image_1 = image_1.astype(bool)\n",
    "image_2 = image_2.astype(bool)\n",
    "\n",
    "points, values = point_and_values(image_1, image_2, interp_dim=interp_dim)\n",
    "\n",
    "\n",
    "#for slice_number, percentage in slice_iterator(slice_index_1, slice_index_2):\n",
    "#    interpolated_img = interpolated_slice(percentage, points, values, interp_dim=interp_dim, method='linear')\n",
    "#    label_layer.data[slice_number, interpolated_img] = label_id\n",
    "#label_layer.refresh()  # will update the current view"
   ]
  },
  {
   "cell_type": "code",
   "execution_count": 102,
   "id": "a911c2b9",
   "metadata": {},
   "outputs": [],
   "source": [
    "percentage = 0.5\n",
    "percent = percentage\n",
    "\n",
    "img_shape = list(values.shape)\n",
    "del img_shape[interp_dim]\n",
    "# Calculate the interpolated slice\n",
    "\n",
    "# xi = xi_coords(img_shape, percent=percent)\n",
    "method='linear'\n",
    "shape = img_shape\n",
    "slices = [slice(0, i) for i in shape]\n",
    "xi = np.moveaxis(np.mgrid[slices], 0, -1).reshape(np.prod(shape), len(shape)).astype('float')\n",
    "xi = np.insert(xi, interp_dim, percent, axis=1)\n",
    "\n",
    "interpolated_img = interpn(points, values, xi, method=method)\n",
    "interpolated_img = np.reshape(interpolated_img, img_shape) > 0\n"
   ]
  },
  {
   "cell_type": "code",
   "execution_count": 115,
   "id": "ee19afac",
   "metadata": {},
   "outputs": [
    {
     "data": {
      "text/plain": [
       "(10, 128, 128)"
      ]
     },
     "execution_count": 115,
     "metadata": {},
     "output_type": "execute_result"
    }
   ],
   "source": [
    "interpolated_img.shape"
   ]
  },
  {
   "cell_type": "code",
   "execution_count": 118,
   "id": "9857f388",
   "metadata": {},
   "outputs": [
    {
     "name": "stdout",
     "output_type": "stream",
     "text": [
      "(10, 1, 128, 128)\n"
     ]
    }
   ],
   "source": [
    "slice_number = 50\n",
    "temp = np.expand_dims(interpolated_img, interp_dim)\n",
    "print(temp.shape)\n"
   ]
  },
  {
   "cell_type": "code",
   "execution_count": 120,
   "id": "c6c9ad3d",
   "metadata": {},
   "outputs": [
    {
     "data": {
      "text/plain": [
       "array([[[[False, False, False, ..., False, False, False],\n",
       "         [False, False, False, ..., False, False, False],\n",
       "         [False, False, False, ..., False, False, False],\n",
       "         ...,\n",
       "         [False, False, False, ..., False, False, False],\n",
       "         [False, False, False, ..., False, False, False],\n",
       "         [False, False, False, ..., False, False, False]]],\n",
       "\n",
       "\n",
       "       [[[False, False, False, ..., False, False, False],\n",
       "         [False, False, False, ..., False, False, False],\n",
       "         [False, False, False, ..., False, False, False],\n",
       "         ...,\n",
       "         [False, False, False, ..., False, False, False],\n",
       "         [False, False, False, ..., False, False, False],\n",
       "         [False, False, False, ..., False, False, False]]],\n",
       "\n",
       "\n",
       "       [[[False, False, False, ..., False, False, False],\n",
       "         [False, False, False, ..., False, False, False],\n",
       "         [False, False, False, ..., False, False, False],\n",
       "         ...,\n",
       "         [False, False, False, ..., False, False, False],\n",
       "         [False, False, False, ..., False, False, False],\n",
       "         [False, False, False, ..., False, False, False]]],\n",
       "\n",
       "\n",
       "       ...,\n",
       "\n",
       "\n",
       "       [[[False, False, False, ..., False, False, False],\n",
       "         [False, False, False, ..., False, False, False],\n",
       "         [False, False, False, ..., False, False, False],\n",
       "         ...,\n",
       "         [False, False, False, ..., False, False, False],\n",
       "         [False, False, False, ..., False, False, False],\n",
       "         [False, False, False, ..., False, False, False]]],\n",
       "\n",
       "\n",
       "       [[[False, False, False, ..., False, False, False],\n",
       "         [False, False, False, ..., False, False, False],\n",
       "         [False, False, False, ..., False, False, False],\n",
       "         ...,\n",
       "         [False, False, False, ..., False, False, False],\n",
       "         [False, False, False, ..., False, False, False],\n",
       "         [False, False, False, ..., False, False, False]]],\n",
       "\n",
       "\n",
       "       [[[False, False, False, ..., False, False, False],\n",
       "         [False, False, False, ..., False, False, False],\n",
       "         [False, False, False, ..., False, False, False],\n",
       "         ...,\n",
       "         [False, False, False, ..., False, False, False],\n",
       "         [False, False, False, ..., False, False, False],\n",
       "         [False, False, False, ..., False, False, False]]]])"
      ]
     },
     "execution_count": 120,
     "metadata": {},
     "output_type": "execute_result"
    }
   ],
   "source": [
    "temp\n"
   ]
  },
  {
   "cell_type": "code",
   "execution_count": 123,
   "id": "b9f2a13e",
   "metadata": {},
   "outputs": [
    {
     "data": {
      "text/plain": [
       "array([[ 5, 50, 54, 52],\n",
       "       [ 5, 50, 54, 53]], dtype=int64)"
      ]
     },
     "execution_count": 123,
     "metadata": {},
     "output_type": "execute_result"
    }
   ],
   "source": [
    "indices = np.argwhere(interpolated_img)\n",
    "indices = np.insert(indices, interp_dim, slice_number, axis=1)\n"
   ]
  },
  {
   "cell_type": "code",
   "execution_count": 75,
   "id": "df3e8414",
   "metadata": {},
   "outputs": [
    {
     "data": {
      "text/plain": [
       "array([[  0.5,   0. ,   0. ,   0. ],\n",
       "       [  0.5,   0. ,   0. ,   1. ],\n",
       "       [  0.5,   0. ,   0. ,   2. ],\n",
       "       ...,\n",
       "       [  0.5,   9. , 127. , 125. ],\n",
       "       [  0.5,   9. , 127. , 126. ],\n",
       "       [  0.5,   9. , 127. , 127. ]])"
      ]
     },
     "execution_count": 75,
     "metadata": {},
     "output_type": "execute_result"
    }
   ],
   "source": [
    "xi"
   ]
  },
  {
   "cell_type": "code",
   "execution_count": null,
   "id": "3d0c69ad",
   "metadata": {},
   "outputs": [],
   "source": []
  },
  {
   "cell_type": "code",
   "execution_count": null,
   "id": "ef63b9c3",
   "metadata": {},
   "outputs": [],
   "source": [
    "import numpy as np\n",
    "from scipy.interpolate import interpn\n",
    "from scipy.ndimage import distance_transform_edt\n",
    "\n",
    "\n",
    "def distance_transform(image):\n",
    "    \"\"\"Distance transform for a boolean image.\n",
    "    \n",
    "    Returns positive values inside the object,\n",
    "    and negative values outside.\n",
    "    \"\"\"\n",
    "    image = image.astype(bool)\n",
    "    edt = distance_transform_edt(image) - distance_transform_edt(~image)\n",
    "    return edt\n",
    "\n",
    "\n",
    "def point_and_values(image_1, image_2, interp_dim=0):\n",
    "    edt_1 = distance_transform(image_1)\n",
    "    edt_2 = distance_transform(image_2)\n",
    "    values = np.stack([edt_1, edt_2], axis=interp_dim)\n",
    "    points = tuple([np.arange(i) for i in values.shape])\n",
    "    return points, values\n",
    "\n",
    "\n",
    "def xi_coords(shape, percent=0.5):\n",
    "    slices = [slice(0, i) for i in shape]\n",
    "    xi = np.moveaxis(np.mgrid[slices], 0, -1).reshape(np.prod(shape), len(shape))\n",
    "    xi = xi = np.c_[np.full((np.prod(shape)), percent), xi]\n",
    "    return xi\n",
    "\n",
    "\n",
    "def slice_iterator(slice_index_1, slice_index_2):\n",
    "    intermediate_slices = np.arange(slice_index_1 + 1, slice_index_2)\n",
    "    n_slices = slice_index_2 - slice_index_1 + 1  # inclusive\n",
    "    stepsize = 1 / n_slices\n",
    "    intermediate_percentages = np.arange(0 + stepsize, 1, stepsize)\n",
    "    return zip(intermediate_slices, intermediate_percentages)\n",
    "\n",
    "\n",
    "def interpolated_slice(percent, points, values, interp_dim=0, method='linear'):\n",
    "    # Find the original image shape\n",
    "    img_shape = list(values.shape)\n",
    "    del img_shape[interp_dim]\n",
    "    # Calculate the interpolated slice\n",
    "    xi = xi_coords(img_shape, percent=percent)\n",
    "    interpolated_img = interpn(points, values, xi, method=method)\n",
    "    interpolated_img = np.reshape(interpolated_img, img_shape) > 0\n",
    "    return interpolated_img\n",
    "    "
   ]
  },
  {
   "cell_type": "code",
   "execution_count": null,
   "id": "33f94119",
   "metadata": {},
   "outputs": [],
   "source": []
  },
  {
   "cell_type": "code",
   "execution_count": null,
   "id": "f23e2b74",
   "metadata": {},
   "outputs": [],
   "source": []
  },
  {
   "cell_type": "code",
   "execution_count": null,
   "id": "d9c2522c",
   "metadata": {},
   "outputs": [],
   "source": []
  },
  {
   "cell_type": "code",
   "execution_count": null,
   "id": "1e8d31e7",
   "metadata": {},
   "outputs": [],
   "source": []
  },
  {
   "cell_type": "markdown",
   "id": "449d7c17",
   "metadata": {},
   "source": [
    "## Sanity check\n",
    "\n",
    "Check that an interpolation percentage of zero returns a result equal to the input image_1.\n",
    "Check that an interpolation percentage of one returns a result equal to the input image_2."
   ]
  },
  {
   "cell_type": "code",
   "execution_count": 17,
   "id": "fc7528be",
   "metadata": {},
   "outputs": [],
   "source": [
    "interp_dim = 0\n",
    "label_id = 1\n",
    "\n",
    "points, values = point_and_values(image_1, image_2)\n",
    "\n",
    "output_1 = interpolated_slice(0.0, points, values, interp_dim=interp_dim)\n",
    "output_2 = interpolated_slice(1.0, points, values, interp_dim=interp_dim)\n",
    "\n",
    "assert np.allclose(image_1.astype(bool), interpolated_slice(0.0, points, values, interp_dim=interp_dim))\n",
    "assert np.allclose(image_2.astype(bool), interpolated_slice(1.0, points, values, interp_dim=interp_dim))"
   ]
  },
  {
   "cell_type": "code",
   "execution_count": null,
   "id": "6e7a9130",
   "metadata": {},
   "outputs": [],
   "source": []
  },
  {
   "cell_type": "markdown",
   "id": "d9f0472d",
   "metadata": {},
   "source": [
    "## Test cases\n",
    "* a simple 3D test case (interpolating 2D slices)\n",
    "  * assert when percent = 0, the result exactly matches the input image_1\n",
    "  * assert when percent = 1.0, the result exactly matches the input image_2\n",
    "  * check results against a previous computation\n",
    "* A test case with multiple label id values\n",
    "* A 4D test case (interpolate across time points, from two labelled 3d blobs)\n",
    "* Check code is robust as to which order image_2 and image_2 are given (eg: user can be scrolling forwards OR backwards through the slices)\n",
    "* A test case when the structure is branching (one input blob turns into two output blobs)"
   ]
  },
  {
   "cell_type": "markdown",
   "id": "94872f6e",
   "metadata": {},
   "source": [
    "## TODO\n",
    "\n",
    "- [ ] Full docstrings for all functions\n",
    "- [ ] Basic test cases\n",
    "- [ ] Extend to multiple label id values\n",
    "- [ ] Consider extending functionality so we only need bring a small cropped section of each slice into memory, instead of needing to convert the full slice to numpy\n",
    "- [ ] "
   ]
  },
  {
   "cell_type": "code",
   "execution_count": 18,
   "id": "5ab43dfe",
   "metadata": {},
   "outputs": [
    {
     "data": {
      "text/plain": [
       "(0,)"
      ]
     },
     "execution_count": 18,
     "metadata": {},
     "output_type": "execute_result"
    }
   ],
   "source": [
    "# answers\n",
    "viewer.dims.not_displayed  # how to get the dimension that is a slider bar"
   ]
  },
  {
   "cell_type": "code",
   "execution_count": null,
   "id": "f5c9a76d",
   "metadata": {},
   "outputs": [],
   "source": []
  },
  {
   "cell_type": "code",
   "execution_count": null,
   "id": "c8ab9c70",
   "metadata": {},
   "outputs": [],
   "source": []
  },
  {
   "cell_type": "code",
   "execution_count": null,
   "id": "fac9732a",
   "metadata": {},
   "outputs": [],
   "source": [
    "viewer.close()"
   ]
  },
  {
   "cell_type": "code",
   "execution_count": null,
   "id": "91c24ec4",
   "metadata": {},
   "outputs": [],
   "source": []
  }
 ],
 "metadata": {
  "interpreter": {
   "hash": "e8f0b44cf16a59ebfa2ed0b00c97bf93787b28c44f2aafb01610def517855b78"
  },
  "kernelspec": {
   "display_name": "Python 3.9.12 ('napari')",
   "language": "python",
   "name": "python3"
  },
  "language_info": {
   "codemirror_mode": {
    "name": "ipython",
    "version": 3
   },
   "file_extension": ".py",
   "mimetype": "text/x-python",
   "name": "python",
   "nbconvert_exporter": "python",
   "pygments_lexer": "ipython3",
   "version": "3.9.12"
  }
 },
 "nbformat": 4,
 "nbformat_minor": 5
}
